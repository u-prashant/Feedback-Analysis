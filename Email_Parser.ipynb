{
 "cells": [
  {
   "cell_type": "markdown",
   "metadata": {},
   "source": [
    "# Objective \n",
    "\n",
    "Email Parser can be used to create database of emails in a csv file"
   ]
  },
  {
   "cell_type": "markdown",
   "metadata": {},
   "source": [
    "## Imports"
   ]
  },
  {
   "cell_type": "code",
   "execution_count": 78,
   "metadata": {},
   "outputs": [],
   "source": [
    "import imapclient\n",
    "import pyzmail\n",
    "import html2text\n",
    "import re"
   ]
  },
  {
   "cell_type": "markdown",
   "metadata": {},
   "source": [
    "## Input"
   ]
  },
  {
   "cell_type": "code",
   "execution_count": 80,
   "metadata": {},
   "outputs": [
    {
     "name": "stdout",
     "output_type": "stream",
     "text": [
      "Enter the email id    : products@sunarctechnologies.com\n",
      "Enter the password    : sunarc@123\n",
      "Enter the folder name : INBOX\n"
     ]
    }
   ],
   "source": [
    "username = input('Enter the email id    : ')\n",
    "password = input('Enter the password    : ')\n",
    "folder   = input('Enter the folder name : ')"
   ]
  },
  {
   "cell_type": "markdown",
   "metadata": {},
   "source": [
    "## Logging in to the IMAP Server"
   ]
  },
  {
   "cell_type": "code",
   "execution_count": 81,
   "metadata": {},
   "outputs": [
    {
     "data": {
      "text/plain": [
       "b'products@sunarctechnologies.com authenticated (Success)'"
      ]
     },
     "execution_count": 81,
     "metadata": {},
     "output_type": "execute_result"
    }
   ],
   "source": [
    "imapObj = imapclient.IMAPClient('imap.gmail.com', ssl=True)\n",
    "imapObj.login(username, password)"
   ]
  },
  {
   "cell_type": "code",
   "execution_count": 82,
   "metadata": {},
   "outputs": [
    {
     "data": {
      "text/plain": [
       "{b'EXISTS': 117,\n",
       " b'FLAGS': (b'\\\\Answered',\n",
       "  b'\\\\Flagged',\n",
       "  b'\\\\Draft',\n",
       "  b'\\\\Deleted',\n",
       "  b'\\\\Seen',\n",
       "  b'$NotPhishing',\n",
       "  b'$Phishing'),\n",
       " b'HIGHESTMODSEQ': 21266,\n",
       " b'PERMANENTFLAGS': (),\n",
       " b'READ-ONLY': [b''],\n",
       " b'RECENT': 0,\n",
       " b'UIDNEXT': 128,\n",
       " b'UIDVALIDITY': 1}"
      ]
     },
     "execution_count": 82,
     "metadata": {},
     "output_type": "execute_result"
    }
   ],
   "source": [
    "# Selecting the folder\n",
    "imapObj.select_folder(folder, readonly=True)"
   ]
  },
  {
   "cell_type": "code",
   "execution_count": 127,
   "metadata": {},
   "outputs": [
    {
     "name": "stdout",
     "output_type": "stream",
     "text": [
      "[7, 33, 39, 41, 43, 44, 76, 78, 80, 82, 85, 100, 123, 125]\n"
     ]
    }
   ],
   "source": [
    "UIDs = imapObj.gmail_search('Question') # Returns UIDs of every message in the currently selected folder\n",
    "print(UIDs)"
   ]
  },
  {
   "cell_type": "markdown",
   "metadata": {},
   "source": [
    "## Fetching Emails  "
   ]
  },
  {
   "cell_type": "code",
   "execution_count": 128,
   "metadata": {},
   "outputs": [
    {
     "name": "stdout",
     "output_type": "stream",
     "text": [
      "The total no. of mail :  14\n"
     ]
    }
   ],
   "source": [
    "rawMessages = imapObj.fetch(UIDs, ['BODY[]'])\n",
    "print(\"The total no. of mail : \",len(rawMessages))"
   ]
  },
  {
   "cell_type": "code",
   "execution_count": 149,
   "metadata": {},
   "outputs": [],
   "source": [
    "message = pyzmail.PyzMessage.factory(rawMessages[82][b'BODY[]'])"
   ]
  },
  {
   "cell_type": "code",
   "execution_count": 150,
   "metadata": {},
   "outputs": [
    {
     "data": {
      "text/plain": [
       "'Fwd: Fwd: New Question Posted at Magento Marketplace'"
      ]
     },
     "execution_count": 150,
     "metadata": {},
     "output_type": "execute_result"
    }
   ],
   "source": [
    "message.get_subject()"
   ]
  },
  {
   "cell_type": "code",
   "execution_count": 151,
   "metadata": {},
   "outputs": [
    {
     "data": {
      "text/plain": [
       "[('products@sunarctechnologies.com', 'products@sunarctechnologies.com')]"
      ]
     },
     "execution_count": 151,
     "metadata": {},
     "output_type": "execute_result"
    }
   ],
   "source": [
    "message.get_addresses('to')"
   ]
  },
  {
   "cell_type": "code",
   "execution_count": 152,
   "metadata": {},
   "outputs": [
    {
     "data": {
      "text/plain": [
       "[]"
      ]
     },
     "execution_count": 152,
     "metadata": {},
     "output_type": "execute_result"
    }
   ],
   "source": [
    "message.get_addresses('cc')"
   ]
  },
  {
   "cell_type": "code",
   "execution_count": 153,
   "metadata": {},
   "outputs": [],
   "source": [
    "def parser(message):\n",
    "    if message.text_part is not None and message.html_part is not None:\n",
    "        multipart = True\n",
    "    else:\n",
    "        multipart = False\n",
    "\n",
    "    if message.text_part is not None:\n",
    "        try:\n",
    "            body = message.text_part.get_payload().decode(message.text_part.charset)\n",
    "        except TypeError:\n",
    "            body = message.text_part.get_payload()\n",
    "\n",
    "    if message.html_part is not None and multipart is False:\n",
    "        try:\n",
    "            body = html2text.html2text(message.html_part.get_payload().decode(message.html_part.charset))\n",
    "        except Exception:\n",
    "            raise Systemexit\n",
    "    return body"
   ]
  },
  {
   "cell_type": "code",
   "execution_count": 154,
   "metadata": {},
   "outputs": [],
   "source": [
    "def cleanhtml(sentence):\n",
    "    \"\"\" Cleans the word of any html-tag.\n",
    "    \n",
    "    Args:\n",
    "      sentence: Takes Sentence\n",
    "      \n",
    "    Returns:\n",
    "      Sentence without any html tags in it.\n",
    "    \"\"\"\n",
    "    cleanr = re.compile('<.*?')\n",
    "    cleantext = re.sub(cleanr, ' ', sentence)\n",
    "    \n",
    "    return cleantext"
   ]
  },
  {
   "cell_type": "code",
   "execution_count": 155,
   "metadata": {},
   "outputs": [],
   "source": [
    "def cleanpunc(sentence):\n",
    "    \"\"\" Cleans the punctuation in the sentence.\n",
    "    \n",
    "    Args:\n",
    "      sentence: A sentence\n",
    "      \n",
    "    Returns:\n",
    "      A sentence after removing punctuations. \n",
    "    \"\"\"\n",
    "    cleaned = re.sub(r'[?|!|\\'|\"|#]',r'',sentence)\n",
    "    cleaned = re.sub(r'[.|,|)|(|\\|/]',r' ',cleaned)\n",
    "    \n",
    "    return  cleaned"
   ]
  },
  {
   "cell_type": "code",
   "execution_count": 156,
   "metadata": {},
   "outputs": [
    {
     "name": "stdout",
     "output_type": "stream",
     "text": [
      "----Forwarded using *Multi-Forward Chrome Extension*\r\n",
      " https:  chrome google com webstore detail multi-forward-for-gmail jjmdplljmniahpamcmabdnahmjdlikpm>\r\n",
      "---\r\n",
      "From: Rajneesh Vyas\r\n",
      "Date: Wed Feb 21 2018 22:02:44 GMT+1100  AEDT \r\n",
      "Subject: Fwd: New Question Posted at Magento Marketplace\r\n",
      "To: vasim ahmad   Monika Agarawal\r\n",
      "\r\n",
      "\r\n",
      "Rajneesh Vyas \r\n",
      "SunArc Technologies Pvt  Ltd \r\n",
      "29 30 Panchshati Circle \r\n",
      "Bikaner  Rajasthan  India\r\n",
      "Phone: +91 151 2200810\r\n",
      "Cell Phone: +91 94 14140013\r\n",
      "Email: rajneesh vyas@sunarctechnologies com\r\n",
      "www sunarctechnologies com\r\n",
      "\r\n",
      " https:  www facebook com sunarctechnologies>\r\n",
      " https:  www linkedin com company sunarc-technologies>\r\n",
      " https:  twitter com SunArc_tech>\r\n",
      " https:  www youtube com user sunarcstudios>\r\n",
      "\r\n",
      "\r\n",
      "\r\n",
      "*Latest Releases :*\r\n",
      "\r\n",
      "Opportunity - A short movie by IT Professionals\r\n",
      " http:  sunarcstudios com movies opportunity >\r\n",
      "\r\n",
      "Boxing Ball - iPhone iPad Game  http:  sunarcstudios com games boxing-ball >\r\n",
      "\r\n",
      "Toons Balloons - iPhone iPad Game\r\n",
      " http:  sunarcstudios com games toons-balloons >\r\n",
      "\r\n",
      "Warning:\r\n",
      "Privileged Confidential information may be contained in this communication\r\n",
      " which includes any attachment   If you are not an intended recipient  you\r\n",
      "must not use  copy  disclose  distribute or retain this communication or\r\n",
      "any part of it  Please delete all copies of this communication from your\r\n",
      "computer system and notify the sender immediately by reply mail  The sender\r\n",
      "does not accept any responsibility for any loss  disruption or damage to\r\n",
      "your data or computer system which may occur whilst using data contained\r\n",
      "in  or transmitted with  this email  Any views or opinions represented in\r\n",
      "this email are solely those of the author and may not necessarily represent\r\n",
      "those of SunArc Technologies Pvt Ltd \r\n",
      "\r\n",
      "---------- Forwarded message ----------\r\n",
      "From: Magento Marketplace  noreply@magento com>\r\n",
      "Date: Wed  Feb 21  2018 at 4:32 PM\r\n",
      "Subject: New Question Posted at Magento Marketplace\r\n",
      "To: rajneesh vyas  rajneesh vyas@sunarctechnologies com>\r\n",
      "\r\n",
      "\r\n",
      "[image: Magento Marketplace]  https:  developer magento com >\r\n",
      "\r\n",
      "Dear Sunarc Technologies \r\n",
      "\r\n",
      "The following Question is now available on Magento Marketplace for the *Split\r\n",
      "Order On checkout  *\r\n",
      "\r\n",
      "*Is possible to separate Order IDs based on selected condition or product\r\n",
      "attribute*\r\n",
      "\r\n",
      "For more information  see: https:  marketplace magento com sunarc-magento2-\r\n",
      "splitorder html \r\n",
      "\r\n",
      "If you have questions  please contact us at: marketplace@magento com \r\n",
      "\r\n",
      "Thanks and best regards \r\n",
      "\r\n",
      "Your Magento Marketplace Team\r\n",
      "[image: Magento Marketplace]  https:  magento com >\r\n",
      "[image: Facebook]  http:  www facebook com magento> [image: Twitter]\r\n",
      " https:  twitter com magento> [image: Youtube]\r\n",
      " http:  www youtube com user magentocommerce featured> [image: Linkedin]\r\n",
      " http:  www linkedin com groupshome=&gid=146360&trk=anet_ug_hm>\r\n",
      "\r\n",
      "Copyright © 2017 Magento Marketplace  All rights reserved \r\n",
      "\n"
     ]
    }
   ],
   "source": [
    "body = parser(message)\n",
    "body = cleanhtml(body)\n",
    "body = cleanpunc(body)\n",
    "print(body)"
   ]
  }
 ],
 "metadata": {
  "kernelspec": {
   "display_name": "Python 3",
   "language": "python",
   "name": "python3"
  },
  "language_info": {
   "codemirror_mode": {
    "name": "ipython",
    "version": 3
   },
   "file_extension": ".py",
   "mimetype": "text/x-python",
   "name": "python",
   "nbconvert_exporter": "python",
   "pygments_lexer": "ipython3",
   "version": "3.6.4"
  }
 },
 "nbformat": 4,
 "nbformat_minor": 2
}
